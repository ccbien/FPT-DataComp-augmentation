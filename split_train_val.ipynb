{
 "cells": [
  {
   "cell_type": "markdown",
   "metadata": {},
   "source": [
    "# Prepare"
   ]
  },
  {
   "cell_type": "code",
   "execution_count": 1,
   "metadata": {},
   "outputs": [],
   "source": [
    "import os\n",
    "import shutil\n",
    "import random"
   ]
  },
  {
   "cell_type": "code",
   "execution_count": 2,
   "metadata": {},
   "outputs": [],
   "source": [
    "def get_src_paths(src):\n",
    "    names = []\n",
    "    img_path = {}\n",
    "    txt_path = {}\n",
    "\n",
    "    for root, dirs, files in os.walk(os.path.join(src, 'images')):\n",
    "        for file in files:\n",
    "            if not file.endswith('.jpg'):\n",
    "                continue\n",
    "            \n",
    "            name = file[:-4]\n",
    "            names.append(name)\n",
    "            img_path[name] = os.path.join(root, file)\n",
    "            txt_path[name] = os.path.join(root.replace('images', 'labels'), name + '.txt')\n",
    "\n",
    "    return sorted(names), img_path, txt_path"
   ]
  },
  {
   "cell_type": "code",
   "execution_count": 28,
   "metadata": {},
   "outputs": [],
   "source": [
    "def split(dst, train_ratio, names, img_path, txt_path, overwrite=True, ):\n",
    "    if os.path.isdir(dst):\n",
    "        if dst:\n",
    "            shutil.rmtree(dst)\n",
    "        else:\n",
    "            raise FileExistsError('The output directory already exists')\n",
    "\n",
    "    train_image_dst = os.path.join(dst, 'images/train/')\n",
    "    train_label_dst = os.path.join(dst, 'labels/train')\n",
    "    val_image_dst = os.path.join(dst, 'images/val')\n",
    "    val_label_dst = os.path.join(dst, 'labels/val')\n",
    "\n",
    "    os.makedirs(train_image_dst)\n",
    "    os.makedirs(train_label_dst)\n",
    "    os.makedirs(val_image_dst)\n",
    "    os.makedirs(val_label_dst)\n",
    "\n",
    "    pos = int(train_ratio * len(names))\n",
    "    for name in names[:pos]:\n",
    "        shutil.copy(img_path[name], train_image_dst)\n",
    "        shutil.copy(txt_path[name], train_label_dst)\n",
    "    for name in names[pos:]:\n",
    "        shutil.copy(img_path[name], val_image_dst)\n",
    "        shutil.copy(txt_path[name], val_label_dst)"
   ]
  },
  {
   "cell_type": "markdown",
   "metadata": {},
   "source": [
    "# Split"
   ]
  },
  {
   "cell_type": "code",
   "execution_count": 8,
   "metadata": {},
   "outputs": [],
   "source": [
    "src = './datasets/0-origin/' # khong duoc chua 'images'\n",
    "dst = './submissions/sub1/'\n",
    "\n",
    "train_ratio = 0.8\n",
    "shuffle = True"
   ]
  },
  {
   "cell_type": "code",
   "execution_count": 9,
   "metadata": {},
   "outputs": [],
   "source": [
    "names, img_path, txt_path = get_src_paths(src)\n",
    "if shuffle:\n",
    "    random.shuffle(names)"
   ]
  },
  {
   "cell_type": "code",
   "execution_count": 29,
   "metadata": {},
   "outputs": [],
   "source": [
    "split(dst, train_ratio, names, img_path, txt_path)"
   ]
  }
 ],
 "metadata": {
  "interpreter": {
   "hash": "d28c92c8d268e528f559a9108982bcbc1de56b75d58998801f49ec27e7c1e813"
  },
  "kernelspec": {
   "display_name": "Python 3.8.8 64-bit ('base': conda)",
   "language": "python",
   "name": "python3"
  },
  "language_info": {
   "codemirror_mode": {
    "name": "ipython",
    "version": 3
   },
   "file_extension": ".py",
   "mimetype": "text/x-python",
   "name": "python",
   "nbconvert_exporter": "python",
   "pygments_lexer": "ipython3",
   "version": "3.8.8"
  },
  "orig_nbformat": 4
 },
 "nbformat": 4,
 "nbformat_minor": 2
}
