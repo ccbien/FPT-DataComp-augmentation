{
 "cells": [
  {
   "cell_type": "markdown",
   "metadata": {},
   "source": [
    "# Prepare"
   ]
  },
  {
   "cell_type": "code",
   "execution_count": 15,
   "metadata": {},
   "outputs": [],
   "source": [
    "import os\n",
    "import shutil\n",
    "import random\n",
    "from utils import is_image_file, is_label_file, get_all_filepaths\n",
    "\n",
    "\n",
    "def split(src, dst, train_ratio, shuffle, overwrite=False):\n",
    "    if os.path.isdir(dst):\n",
    "        if overwrite:\n",
    "            shutil.rmtree(dst)\n",
    "        else:\n",
    "            raise FileExistsError('The output directory already exists')\n",
    "\n",
    "    train_image_dst = os.path.join(dst, 'images/train/')\n",
    "    train_label_dst = os.path.join(dst, 'labels/train')\n",
    "    val_image_dst = os.path.join(dst, 'images/val')\n",
    "    val_label_dst = os.path.join(dst, 'labels/val')\n",
    "\n",
    "    os.makedirs(train_image_dst)\n",
    "    os.makedirs(train_label_dst)\n",
    "    os.makedirs(val_image_dst)\n",
    "    os.makedirs(val_label_dst)\n",
    "\n",
    "    image_path = get_all_filepaths(src, is_image_file)\n",
    "    label_path = get_all_filepaths(src, is_label_file)\n",
    "    names = sorted(list(image_path.keys()))\n",
    "    if shuffle:\n",
    "        random.shuffle(names)\n",
    "\n",
    "    pos = int(train_ratio * len(names))\n",
    "    for name in names[:pos]:\n",
    "        shutil.copy(image_path[name], train_image_dst)\n",
    "        shutil.copy(label_path[name], train_label_dst)\n",
    "    for name in names[pos:]:\n",
    "        shutil.copy(image_path[name], val_image_dst)\n",
    "        shutil.copy(label_path[name], val_label_dst)"
   ]
  },
  {
   "cell_type": "markdown",
   "metadata": {},
   "source": [
    "# Split"
   ]
  },
  {
   "cell_type": "code",
   "execution_count": 16,
   "metadata": {},
   "outputs": [],
   "source": [
    "src = '../datasets/04/' # path khong duoc chua 'images'\n",
    "dst = '../submissions/sub04/'\n",
    "train_ratio = 0.8\n",
    "shuffle = True\n",
    "overwrite = False"
   ]
  },
  {
   "cell_type": "code",
   "execution_count": 17,
   "metadata": {},
   "outputs": [],
   "source": [
    "split(src, dst, train_ratio, shuffle, overwrite)"
   ]
  }
 ],
 "metadata": {
  "interpreter": {
   "hash": "d28c92c8d268e528f559a9108982bcbc1de56b75d58998801f49ec27e7c1e813"
  },
  "kernelspec": {
   "display_name": "Python 3.8.8 64-bit ('base': conda)",
   "language": "python",
   "name": "python3"
  },
  "language_info": {
   "codemirror_mode": {
    "name": "ipython",
    "version": 3
   },
   "file_extension": ".py",
   "mimetype": "text/x-python",
   "name": "python",
   "nbconvert_exporter": "python",
   "pygments_lexer": "ipython3",
   "version": "3.8.8"
  },
  "orig_nbformat": 4
 },
 "nbformat": 4,
 "nbformat_minor": 2
}
